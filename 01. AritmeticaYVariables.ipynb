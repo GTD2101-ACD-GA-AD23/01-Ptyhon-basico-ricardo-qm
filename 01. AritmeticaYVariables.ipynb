{
  "cells": [
    {
      "cell_type": "markdown",
      "metadata": {
        "id": "view-in-github",
        "colab_type": "text"
      },
      "source": [
        "<a href=\"https://colab.research.google.com/github/GTD2101-ACD-GA-AD23/01-Ptyhon-basico-ricardo-qm/blob/main/01.%20AritmeticaYVariables.ipynb\" target=\"_parent\"><img src=\"https://colab.research.google.com/assets/colab-badge.svg\" alt=\"Open In Colab\"/></a>"
      ]
    },
    {
      "cell_type": "markdown",
      "metadata": {
        "id": "K5Nhl2dWz0zX"
      },
      "source": [
        "# Aritmética y Variables\n",
        "\n",
        "En este JNB se revisará el tema de Aritmética y Variables"
      ]
    },
    {
      "cell_type": "code",
      "execution_count": null,
      "metadata": {
        "id": "O8NoTzxjs2wK",
        "outputId": "fa4bc249-a4fa-48a6-9dc6-7733646ed223"
      },
      "outputs": [
        {
          "name": "stdout",
          "output_type": "stream",
          "text": [
            "Hello World!\n"
          ]
        }
      ],
      "source": [
        "print(\"Hello World!\")"
      ]
    },
    {
      "cell_type": "markdown",
      "source": [
        "#Aritmetica en Python\n",
        "\n",
        "Se pueden utilizar los operadores aritméticos tradicionales en Python"
      ],
      "metadata": {
        "id": "lQZjQckb5zzx"
      }
    },
    {
      "cell_type": "code",
      "source": [
        "1+2"
      ],
      "metadata": {
        "id": "Cfi5tHGM56r4",
        "outputId": "af10d32b-53d6-4c91-ec31-2a3da2e448ec",
        "colab": {
          "base_uri": "https://localhost:8080/"
        }
      },
      "execution_count": 1,
      "outputs": [
        {
          "output_type": "execute_result",
          "data": {
            "text/plain": [
              "3"
            ]
          },
          "metadata": {},
          "execution_count": 1
        }
      ]
    },
    {
      "cell_type": "code",
      "source": [
        "print(1+2)"
      ],
      "metadata": {
        "id": "F11iCcr06Bnn",
        "outputId": "0a0308fb-faa2-404c-f48d-a2790bf9fa22",
        "colab": {
          "base_uri": "https://localhost:8080/"
        }
      },
      "execution_count": 2,
      "outputs": [
        {
          "output_type": "stream",
          "name": "stdout",
          "text": [
            "3\n"
          ]
        }
      ]
    },
    {
      "cell_type": "code",
      "source": [
        "print(9 - 5)"
      ],
      "metadata": {
        "id": "TwY71kTp6IdW",
        "outputId": "620f54f0-24b9-4f9e-d1e6-f8a793681bc1",
        "colab": {
          "base_uri": "https://localhost:8080/"
        }
      },
      "execution_count": 3,
      "outputs": [
        {
          "output_type": "stream",
          "name": "stdout",
          "text": [
            "4\n"
          ]
        }
      ]
    },
    {
      "cell_type": "code",
      "source": [
        "print(((1 + 3) * (9 - 2) / 2) ** 2)"
      ],
      "metadata": {
        "id": "kw2BwqLI6gb7",
        "outputId": "28b915bb-b566-4d16-b544-cfff9022573f",
        "colab": {
          "base_uri": "https://localhost:8080/"
        }
      },
      "execution_count": 4,
      "outputs": [
        {
          "output_type": "stream",
          "name": "stdout",
          "text": [
            "196.0\n"
          ]
        }
      ]
    }
  ],
  "metadata": {
    "colab": {
      "provenance": [],
      "include_colab_link": true
    },
    "kernelspec": {
      "display_name": "Python 3.10.7 64-bit",
      "language": "python",
      "name": "python3"
    },
    "language_info": {
      "codemirror_mode": {
        "name": "ipython",
        "version": 3
      },
      "file_extension": ".py",
      "mimetype": "text/x-python",
      "name": "python",
      "nbconvert_exporter": "python",
      "pygments_lexer": "ipython3",
      "version": "3.10.7"
    },
    "orig_nbformat": 4,
    "vscode": {
      "interpreter": {
        "hash": "eb4a0ac80907d7f44e1a5e88d3d3381b33e3dbedd3a24d113e876f30a0c46bee"
      }
    }
  },
  "nbformat": 4,
  "nbformat_minor": 0
}