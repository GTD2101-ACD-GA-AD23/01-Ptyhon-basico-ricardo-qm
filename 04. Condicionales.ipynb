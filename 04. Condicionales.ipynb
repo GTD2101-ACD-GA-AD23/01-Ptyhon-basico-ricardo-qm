{
  "cells": [
    {
      "cell_type": "markdown",
      "metadata": {
        "id": "view-in-github",
        "colab_type": "text"
      },
      "source": [
        "<a href=\"https://colab.research.google.com/github/GTD2101-ACD-GA-AD23/01-Ptyhon-basico-ricardo-qm/blob/main/04.%20Condicionales.ipynb\" target=\"_parent\"><img src=\"https://colab.research.google.com/assets/colab-badge.svg\" alt=\"Open In Colab\"/></a>"
      ]
    },
    {
      "cell_type": "markdown",
      "metadata": {
        "id": "zisSoB7q2rda"
      },
      "source": [
        "# Condiciones y Estatutos Condicionales\n",
        "\n",
        "En este JNB se revisará el tema de Condiciones y Estatutos Condicionales"
      ]
    },
    {
      "cell_type": "code",
      "execution_count": 1,
      "metadata": {
        "id": "O8NoTzxjs2wK",
        "outputId": "f2513046-9029-4c41-b41a-0889815bb5c7",
        "colab": {
          "base_uri": "https://localhost:8080/"
        }
      },
      "outputs": [
        {
          "output_type": "stream",
          "name": "stdout",
          "text": [
            "False\n"
          ]
        }
      ],
      "source": [
        "print(2 > 3)"
      ]
    },
    {
      "cell_type": "code",
      "source": [
        "var_one = 1\n",
        "var_two = 2\n",
        "\n",
        "print(var_one < 1)\n",
        "print(var_two >= var_one)"
      ],
      "metadata": {
        "id": "ljz1FkST4Hgv",
        "outputId": "18239b01-26a7-48db-c8ae-7f6142c5a3a9",
        "colab": {
          "base_uri": "https://localhost:8080/"
        }
      },
      "execution_count": 2,
      "outputs": [
        {
          "output_type": "stream",
          "name": "stdout",
          "text": [
            "False\n",
            "True\n"
          ]
        }
      ]
    },
    {
      "cell_type": "markdown",
      "source": [
        "# Estatutos condicionales\n",
        "\n",
        "Se utilizan para cambiar el flujo de control de un programa."
      ],
      "metadata": {
        "id": "Qxz7H3jF4gj7"
      }
    },
    {
      "cell_type": "code",
      "source": [
        "def evaluate_temp(temp):\n",
        "    # Set an initial message\n",
        "    message = \"Normal temperature.\"\n",
        "    # Update value of message only if temperature greater than 38\n",
        "    if temp > 38:\n",
        "      message = \"Fever!\"\n",
        "    return message"
      ],
      "metadata": {
        "id": "I2UwV9Ur4lVj"
      },
      "execution_count": 7,
      "outputs": []
    },
    {
      "cell_type": "code",
      "source": [
        "print(evaluate_temp(37))"
      ],
      "metadata": {
        "id": "RzuoridG5QRo",
        "outputId": "aaf78f69-e311-4a6a-aa05-83f11466681f",
        "colab": {
          "base_uri": "https://localhost:8080/"
        }
      },
      "execution_count": 8,
      "outputs": [
        {
          "output_type": "stream",
          "name": "stdout",
          "text": [
            "Normal temperature.\n"
          ]
        }
      ]
    },
    {
      "cell_type": "markdown",
      "source": [
        "# if ... else"
      ],
      "metadata": {
        "id": "U_NqbRYs6e7O"
      }
    },
    {
      "cell_type": "code",
      "source": [
        "def evaluate_temp_with_else(temp):\n",
        "    if temp > 38:\n",
        "        message = \"Fever!\"\n",
        "    else:\n",
        "        message = \"Normal temperature.\"\n",
        "    return message"
      ],
      "metadata": {
        "id": "q27ZNl5K6gnq"
      },
      "execution_count": 9,
      "outputs": []
    },
    {
      "cell_type": "code",
      "source": [
        "print(evaluate_temp_with_else(37))"
      ],
      "metadata": {
        "id": "7JuEfpDd7CVO",
        "outputId": "e431942c-8ba1-45fa-daa5-5ce022a91d2b",
        "colab": {
          "base_uri": "https://localhost:8080/"
        }
      },
      "execution_count": 10,
      "outputs": [
        {
          "output_type": "stream",
          "name": "stdout",
          "text": [
            "Normal temperature.\n"
          ]
        }
      ]
    },
    {
      "cell_type": "markdown",
      "source": [],
      "metadata": {
        "id": "Cw448vWT6eeJ"
      }
    },
    {
      "cell_type": "markdown",
      "source": [
        "#if ... elif ... else"
      ],
      "metadata": {
        "id": "gnYujjIm9fQR"
      }
    },
    {
      "cell_type": "code",
      "source": [
        "def evaluate_temp_with_elif(temp):\n",
        "    if temp > 38:\n",
        "        message = \"Fever!\"\n",
        "    elif temp > 35:\n",
        "        message = \"Normal temperature.\"\n",
        "    else:\n",
        "        message = \"Low temperature.\"\n",
        "    return message"
      ],
      "metadata": {
        "id": "y0nxwj5z9iQg"
      },
      "execution_count": 11,
      "outputs": []
    },
    {
      "cell_type": "code",
      "source": [
        "evaluate_temp_with_elif(36)"
      ],
      "metadata": {
        "id": "-qcMzXgO9msa",
        "outputId": "18547ba3-0b52-4a89-e8ab-5419e5e9daae",
        "colab": {
          "base_uri": "https://localhost:8080/",
          "height": 36
        }
      },
      "execution_count": 12,
      "outputs": [
        {
          "output_type": "execute_result",
          "data": {
            "text/plain": [
              "'Normal temperature.'"
            ],
            "application/vnd.google.colaboratory.intrinsic+json": {
              "type": "string"
            }
          },
          "metadata": {},
          "execution_count": 12
        }
      ]
    },
    {
      "cell_type": "code",
      "source": [
        "type(evaluate_temp_with_elif)"
      ],
      "metadata": {
        "id": "hmMgPIjN9oYd",
        "outputId": "fd19064d-0ff5-4b0f-f989-0b004bcc6fc1",
        "colab": {
          "base_uri": "https://localhost:8080/"
        }
      },
      "execution_count": 13,
      "outputs": [
        {
          "output_type": "execute_result",
          "data": {
            "text/plain": [
              "function"
            ]
          },
          "metadata": {},
          "execution_count": 13
        }
      ]
    }
  ],
  "metadata": {
    "colab": {
      "provenance": [],
      "include_colab_link": true
    },
    "kernelspec": {
      "display_name": "Python 3.10.7 64-bit",
      "language": "python",
      "name": "python3"
    },
    "language_info": {
      "codemirror_mode": {
        "name": "ipython",
        "version": 3
      },
      "file_extension": ".py",
      "mimetype": "text/x-python",
      "name": "python",
      "nbconvert_exporter": "python",
      "pygments_lexer": "ipython3",
      "version": "3.10.7"
    },
    "orig_nbformat": 4,
    "vscode": {
      "interpreter": {
        "hash": "eb4a0ac80907d7f44e1a5e88d3d3381b33e3dbedd3a24d113e876f30a0c46bee"
      }
    }
  },
  "nbformat": 4,
  "nbformat_minor": 0
}